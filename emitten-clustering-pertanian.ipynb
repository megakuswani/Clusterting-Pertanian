{
 "cells": [
  {
   "cell_type": "code",
   "execution_count": null,
   "id": "327c78f6",
   "metadata": {
    "papermill": {
     "duration": 0.038065,
     "end_time": "2022-04-20T14:19:53.483699",
     "exception": false,
     "start_time": "2022-04-20T14:19:53.445634",
     "status": "completed"
    },
    "tags": []
   },
   "outputs": [],
   "source": []
  },
  {
   "cell_type": "code",
   "execution_count": 1,
   "id": "1d5c384c",
   "metadata": {
    "_cell_guid": "b1076dfc-b9ad-4769-8c92-a6c4dae69d19",
    "_uuid": "8f2839f25d086af736a60e9eeb907d3b93b6e0e5",
    "execution": {
     "iopub.execute_input": "2022-04-20T14:19:53.559522Z",
     "iopub.status.busy": "2022-04-20T14:19:53.558841Z",
     "iopub.status.idle": "2022-04-20T14:19:53.577665Z",
     "shell.execute_reply": "2022-04-20T14:19:53.576989Z"
    },
    "papermill": {
     "duration": 0.059716,
     "end_time": "2022-04-20T14:19:53.580195",
     "exception": false,
     "start_time": "2022-04-20T14:19:53.520479",
     "status": "completed"
    },
    "tags": []
   },
   "outputs": [
    {
     "name": "stdout",
     "output_type": "stream",
     "text": [
      "/kaggle/input/dataclustering/pertanianclustering.csv\n",
      "/kaggle/input/dataclustering/pertanianemitten.csv\n"
     ]
    }
   ],
   "source": [
    "# This Python 3 environment comes with many helpful analytics libraries installed\n",
    "# It is defined by the kaggle/python Docker image: https://github.com/kaggle/docker-python\n",
    "# For example, here's several helpful packages to load\n",
    "\n",
    "import numpy as np # linear algebra\n",
    "import pandas as pd # data processing, CSV file I/O (e.g. pd.read_csv)\n",
    "\n",
    "# Input data files are available in the read-only \"../input/\" directory\n",
    "# For example, running this (by clicking run or pressing Shift+Enter) will list all files under the input directory\n",
    "\n",
    "import os\n",
    "for dirname, _, filenames in os.walk('/kaggle/input'):\n",
    "    for filename in filenames:\n",
    "        print(os.path.join(dirname, filename))\n",
    "\n",
    "# You can write up to 20GB to the current directory (/kaggle/working/) that gets preserved as output when you create a version using \"Save & Run All\" \n",
    "# You can also write temporary files to /kaggle/temp/, but they won't be saved outside of the current session"
   ]
  },
  {
   "cell_type": "code",
   "execution_count": 2,
   "id": "271bf26e",
   "metadata": {
    "execution": {
     "iopub.execute_input": "2022-04-20T14:19:53.657232Z",
     "iopub.status.busy": "2022-04-20T14:19:53.656562Z",
     "iopub.status.idle": "2022-04-20T14:19:54.906863Z",
     "shell.execute_reply": "2022-04-20T14:19:54.905815Z"
    },
    "papermill": {
     "duration": 1.291937,
     "end_time": "2022-04-20T14:19:54.909610",
     "exception": false,
     "start_time": "2022-04-20T14:19:53.617673",
     "status": "completed"
    },
    "tags": []
   },
   "outputs": [],
   "source": [
    "import pandas as pd \n",
    "import numpy as np\n",
    "import matplotlib.pyplot as plt\n",
    "import seaborn as sns\n",
    "from matplotlib.colors import ListedColormap\n",
    "%matplotlib inline\n",
    "from scipy import stats"
   ]
  },
  {
   "cell_type": "code",
   "execution_count": 3,
   "id": "8763c6cd",
   "metadata": {
    "execution": {
     "iopub.execute_input": "2022-04-20T14:19:54.985343Z",
     "iopub.status.busy": "2022-04-20T14:19:54.984986Z",
     "iopub.status.idle": "2022-04-20T14:19:55.024085Z",
     "shell.execute_reply": "2022-04-20T14:19:55.022574Z"
    },
    "papermill": {
     "duration": 0.080436,
     "end_time": "2022-04-20T14:19:55.026912",
     "exception": false,
     "start_time": "2022-04-20T14:19:54.946476",
     "status": "completed"
    },
    "tags": []
   },
   "outputs": [
    {
     "name": "stdout",
     "output_type": "stream",
     "text": [
      "<class 'pandas.core.frame.DataFrame'>\n",
      "RangeIndex: 19 entries, 0 to 18\n",
      "Data columns (total 6 columns):\n",
      " #   Column                   Non-Null Count  Dtype  \n",
      "---  ------                   --------------  -----  \n",
      " 0   Emitten                  19 non-null     object \n",
      " 1   DER                      19 non-null     float64\n",
      " 2   Operating Profit Margin  19 non-null     float64\n",
      " 3   sales growth             19 non-null     object \n",
      " 4   return of asset          19 non-null     float64\n",
      " 5   Category                 0 non-null      float64\n",
      "dtypes: float64(4), object(2)\n",
      "memory usage: 1.0+ KB\n"
     ]
    }
   ],
   "source": [
    "df0 = pd.read_csv('../input/dataclustering/pertanianclustering.csv')\n",
    "df0.info()"
   ]
  },
  {
   "cell_type": "code",
   "execution_count": 4,
   "id": "bd61f0de",
   "metadata": {
    "execution": {
     "iopub.execute_input": "2022-04-20T14:19:55.108171Z",
     "iopub.status.busy": "2022-04-20T14:19:55.107651Z",
     "iopub.status.idle": "2022-04-20T14:19:55.140080Z",
     "shell.execute_reply": "2022-04-20T14:19:55.139060Z"
    },
    "papermill": {
     "duration": 0.077575,
     "end_time": "2022-04-20T14:19:55.143201",
     "exception": false,
     "start_time": "2022-04-20T14:19:55.065626",
     "status": "completed"
    },
    "tags": []
   },
   "outputs": [
    {
     "data": {
      "text/html": [
       "<div>\n",
       "<style scoped>\n",
       "    .dataframe tbody tr th:only-of-type {\n",
       "        vertical-align: middle;\n",
       "    }\n",
       "\n",
       "    .dataframe tbody tr th {\n",
       "        vertical-align: top;\n",
       "    }\n",
       "\n",
       "    .dataframe thead th {\n",
       "        text-align: right;\n",
       "    }\n",
       "</style>\n",
       "<table border=\"1\" class=\"dataframe\">\n",
       "  <thead>\n",
       "    <tr style=\"text-align: right;\">\n",
       "      <th></th>\n",
       "      <th>DER</th>\n",
       "      <th>Operating Profit Margin</th>\n",
       "      <th>return of asset</th>\n",
       "      <th>Category</th>\n",
       "    </tr>\n",
       "  </thead>\n",
       "  <tbody>\n",
       "    <tr>\n",
       "      <th>count</th>\n",
       "      <td>19.000000</td>\n",
       "      <td>19.000000</td>\n",
       "      <td>19.000000</td>\n",
       "      <td>0.0</td>\n",
       "    </tr>\n",
       "    <tr>\n",
       "      <th>mean</th>\n",
       "      <td>1.677137</td>\n",
       "      <td>-0.033534</td>\n",
       "      <td>0.033923</td>\n",
       "      <td>NaN</td>\n",
       "    </tr>\n",
       "    <tr>\n",
       "      <th>std</th>\n",
       "      <td>2.615720</td>\n",
       "      <td>0.572822</td>\n",
       "      <td>0.119803</td>\n",
       "      <td>NaN</td>\n",
       "    </tr>\n",
       "    <tr>\n",
       "      <th>min</th>\n",
       "      <td>-1.322743</td>\n",
       "      <td>-2.007213</td>\n",
       "      <td>-0.178472</td>\n",
       "      <td>NaN</td>\n",
       "    </tr>\n",
       "    <tr>\n",
       "      <th>25%</th>\n",
       "      <td>0.443561</td>\n",
       "      <td>-0.013364</td>\n",
       "      <td>-0.040850</td>\n",
       "      <td>NaN</td>\n",
       "    </tr>\n",
       "    <tr>\n",
       "      <th>50%</th>\n",
       "      <td>0.758859</td>\n",
       "      <td>0.150501</td>\n",
       "      <td>0.043147</td>\n",
       "      <td>NaN</td>\n",
       "    </tr>\n",
       "    <tr>\n",
       "      <th>75%</th>\n",
       "      <td>1.542588</td>\n",
       "      <td>0.231707</td>\n",
       "      <td>0.073551</td>\n",
       "      <td>NaN</td>\n",
       "    </tr>\n",
       "    <tr>\n",
       "      <th>max</th>\n",
       "      <td>10.614012</td>\n",
       "      <td>0.458206</td>\n",
       "      <td>0.405886</td>\n",
       "      <td>NaN</td>\n",
       "    </tr>\n",
       "  </tbody>\n",
       "</table>\n",
       "</div>"
      ],
      "text/plain": [
       "             DER  Operating Profit Margin  return of asset  Category\n",
       "count  19.000000                19.000000        19.000000       0.0\n",
       "mean    1.677137                -0.033534         0.033923       NaN\n",
       "std     2.615720                 0.572822         0.119803       NaN\n",
       "min    -1.322743                -2.007213        -0.178472       NaN\n",
       "25%     0.443561                -0.013364        -0.040850       NaN\n",
       "50%     0.758859                 0.150501         0.043147       NaN\n",
       "75%     1.542588                 0.231707         0.073551       NaN\n",
       "max    10.614012                 0.458206         0.405886       NaN"
      ]
     },
     "execution_count": 4,
     "metadata": {},
     "output_type": "execute_result"
    }
   ],
   "source": [
    "df0.describe()"
   ]
  },
  {
   "cell_type": "code",
   "execution_count": 5,
   "id": "a2019669",
   "metadata": {
    "execution": {
     "iopub.execute_input": "2022-04-20T14:19:55.224487Z",
     "iopub.status.busy": "2022-04-20T14:19:55.223487Z",
     "iopub.status.idle": "2022-04-20T14:19:55.228858Z",
     "shell.execute_reply": "2022-04-20T14:19:55.228275Z"
    },
    "papermill": {
     "duration": 0.048233,
     "end_time": "2022-04-20T14:19:55.231155",
     "exception": false,
     "start_time": "2022-04-20T14:19:55.182922",
     "status": "completed"
    },
    "tags": []
   },
   "outputs": [],
   "source": [
    "df0.drop([\"Emitten\",\"Category\"], axis=1, inplace=True)"
   ]
  },
  {
   "cell_type": "code",
   "execution_count": 6,
   "id": "8ba889e6",
   "metadata": {
    "execution": {
     "iopub.execute_input": "2022-04-20T14:19:55.313509Z",
     "iopub.status.busy": "2022-04-20T14:19:55.313069Z",
     "iopub.status.idle": "2022-04-20T14:19:57.926715Z",
     "shell.execute_reply": "2022-04-20T14:19:57.925478Z"
    },
    "papermill": {
     "duration": 2.659137,
     "end_time": "2022-04-20T14:19:57.929130",
     "exception": false,
     "start_time": "2022-04-20T14:19:55.269993",
     "status": "completed"
    },
    "tags": []
   },
   "outputs": [
    {
     "data": {
      "text/plain": [
       "<Figure size 1080x1080 with 0 Axes>"
      ]
     },
     "metadata": {},
     "output_type": "display_data"
    },
    {
     "data": {
      "image/png": "[encoded data removed]",
      "text/plain": [
       "<Figure size 540x540 with 12 Axes>"
      ]
     },
     "metadata": {
      "needs_background": "light"
     },
     "output_type": "display_data"
    }
   ],
   "source": [
    "plt.figure(figsize=(15, 15))\n",
    "sns.pairplot(df0, vars = df0.columns[1:13]);"
   ]
  },
  {
   "cell_type": "code",
   "execution_count": 7,
   "id": "5f3a6e3f",
   "metadata": {
    "execution": {
     "iopub.execute_input": "2022-04-20T14:19:58.014910Z",
     "iopub.status.busy": "2022-04-20T14:19:58.013652Z",
     "iopub.status.idle": "2022-04-20T14:19:58.030741Z",
     "shell.execute_reply": "2022-04-20T14:19:58.029958Z"
    },
    "papermill": {
     "duration": 0.061957,
     "end_time": "2022-04-20T14:19:58.032808",
     "exception": false,
     "start_time": "2022-04-20T14:19:57.970851",
     "status": "completed"
    },
    "tags": []
   },
   "outputs": [
    {
     "data": {
      "text/plain": [
       "<bound method NDFrame.describe of           DER  Operating Profit Margin   sales growth  return of asset  \\\n",
       "0    0.135154                 0.135154    1.293241473         0.064848   \n",
       "1    0.758859                -0.064557    0.834610166        -0.064974   \n",
       "2    0.395062                 0.236027    1.625789153         0.061328   \n",
       "3    0.000624                 0.227386    0.797726643         0.119392   \n",
       "4    1.239184                -2.007213    1.451509962        -0.059932   \n",
       "5    3.517208                -0.412206  1,336,418,537        -0.116518   \n",
       "6    5.083353                 0.331290    1.055428523         0.405886   \n",
       "7    0.755672                 0.193574    1.063529215         0.053030   \n",
       "8    0.624000                -0.031987    1.056816441        -0.026476   \n",
       "9   10.614012                 0.005259    0.637814498        -0.055224   \n",
       "10   0.000834                 0.275624     1.27956743         0.083640   \n",
       "11   3.570709                -0.980925    0.977536938        -0.178472   \n",
       "12   1.192419                 0.023986     1.78084047         0.043147   \n",
       "13   1.440119                 0.209131    1.898170737         0.057301   \n",
       "14   0.697246                 0.279514    1.491136354         0.082254   \n",
       "15   0.492060                 0.150501    1.358130324         0.027361   \n",
       "16   1.026782                 0.458206      1.2971656         0.109419   \n",
       "17   1.645057                 0.138291     1.27306024         0.042457   \n",
       "18  -1.322743                 0.195796    1.263455404        -0.003921   \n",
       "\n",
       "    Category  \n",
       "0        NaN  \n",
       "1        NaN  \n",
       "2        NaN  \n",
       "3        NaN  \n",
       "4        NaN  \n",
       "5        NaN  \n",
       "6        NaN  \n",
       "7        NaN  \n",
       "8        NaN  \n",
       "9        NaN  \n",
       "10       NaN  \n",
       "11       NaN  \n",
       "12       NaN  \n",
       "13       NaN  \n",
       "14       NaN  \n",
       "15       NaN  \n",
       "16       NaN  \n",
       "17       NaN  \n",
       "18       NaN  >"
      ]
     },
     "execution_count": 7,
     "metadata": {},
     "output_type": "execute_result"
    }
   ],
   "source": [
    "df0 = pd.read_csv('../input/dataclustering/pertanianclustering.csv')\n",
    "df1 = df0[['DER','Operating Profit Margin' ,'sales growth','return of asset','Category']]\n",
    "df1.describe"
   ]
  },
  {
   "cell_type": "code",
   "execution_count": 8,
   "id": "d8da0d41",
   "metadata": {
    "execution": {
     "iopub.execute_input": "2022-04-20T14:19:58.118430Z",
     "iopub.status.busy": "2022-04-20T14:19:58.117885Z",
     "iopub.status.idle": "2022-04-20T14:19:58.429133Z",
     "shell.execute_reply": "2022-04-20T14:19:58.428453Z"
    },
    "papermill": {
     "duration": 0.356489,
     "end_time": "2022-04-20T14:19:58.431323",
     "exception": false,
     "start_time": "2022-04-20T14:19:58.074834",
     "status": "completed"
    },
    "tags": []
   },
   "outputs": [
    {
     "data": {
      "text/plain": [
       "<AxesSubplot:xlabel='Emitten', ylabel='Operating Profit Margin'>"
      ]
     },
     "execution_count": 8,
     "metadata": {},
     "output_type": "execute_result"
    },
    {
     "data": {
      "image/png": "[encoded data removed]",
      "text/plain": [
       "<Figure size 1296x288 with 1 Axes>"
      ]
     },
     "metadata": {
      "needs_background": "light"
     },
     "output_type": "display_data"
    }
   ],
   "source": [
    "plt.figure(figsize=(18, 4))\n",
    "plt.xticks(rotation=45)\n",
    "sns.scatterplot(x='Emitten', y='Operating Profit Margin', \n",
    "                data=df0, s=80)"
   ]
  },
  {
   "cell_type": "code",
   "execution_count": 9,
   "id": "1032f161",
   "metadata": {
    "execution": {
     "iopub.execute_input": "2022-04-20T14:19:58.519377Z",
     "iopub.status.busy": "2022-04-20T14:19:58.518807Z",
     "iopub.status.idle": "2022-04-20T14:19:58.822483Z",
     "shell.execute_reply": "2022-04-20T14:19:58.821760Z"
    },
    "papermill": {
     "duration": 0.351435,
     "end_time": "2022-04-20T14:19:58.825066",
     "exception": false,
     "start_time": "2022-04-20T14:19:58.473631",
     "status": "completed"
    },
    "tags": []
   },
   "outputs": [
    {
     "data": {
      "text/plain": [
       "<AxesSubplot:xlabel='Emitten', ylabel='DER'>"
      ]
     },
     "execution_count": 9,
     "metadata": {},
     "output_type": "execute_result"
    },
    {
     "data": {
      "image/png": "[encoded data removed]",
      "text/plain": [
       "<Figure size 1296x288 with 1 Axes>"
      ]
     },
     "metadata": {
      "needs_background": "light"
     },
     "output_type": "display_data"
    }
   ],
   "source": [
    "plt.figure(figsize=(18, 4))\n",
    "plt.xticks(rotation=45)\n",
    "sns.scatterplot(x='Emitten', y='DER', \n",
    "                data=df0, s=80)"
   ]
  },
  {
   "cell_type": "code",
   "execution_count": 10,
   "id": "9ecb568f",
   "metadata": {
    "execution": {
     "iopub.execute_input": "2022-04-20T14:19:58.916463Z",
     "iopub.status.busy": "2022-04-20T14:19:58.916136Z",
     "iopub.status.idle": "2022-04-20T14:19:59.290684Z",
     "shell.execute_reply": "2022-04-20T14:19:59.289656Z"
    },
    "papermill": {
     "duration": 0.423873,
     "end_time": "2022-04-20T14:19:59.293557",
     "exception": false,
     "start_time": "2022-04-20T14:19:58.869684",
     "status": "completed"
    },
    "tags": []
   },
   "outputs": [
    {
     "data": {
      "text/plain": [
       "<AxesSubplot:xlabel='Emitten', ylabel='sales growth'>"
      ]
     },
     "execution_count": 10,
     "metadata": {},
     "output_type": "execute_result"
    },
    {
     "data": {
      "image/png": "[encoded data removed]",
      "text/plain": [
       "<Figure size 1296x288 with 1 Axes>"
      ]
     },
     "metadata": {
      "needs_background": "light"
     },
     "output_type": "display_data"
    }
   ],
   "source": [
    "plt.figure(figsize=(18, 4))\n",
    "plt.xticks(rotation=45)\n",
    "sns.scatterplot(x='Emitten', y='sales growth', \n",
    "                data=df0, s=80)"
   ]
  },
  {
   "cell_type": "code",
   "execution_count": 11,
   "id": "81ed6b7a",
   "metadata": {
    "execution": {
     "iopub.execute_input": "2022-04-20T14:19:59.391448Z",
     "iopub.status.busy": "2022-04-20T14:19:59.391098Z",
     "iopub.status.idle": "2022-04-20T14:19:59.401390Z",
     "shell.execute_reply": "2022-04-20T14:19:59.400460Z"
    },
    "papermill": {
     "duration": 0.061568,
     "end_time": "2022-04-20T14:19:59.404161",
     "exception": false,
     "start_time": "2022-04-20T14:19:59.342593",
     "status": "completed"
    },
    "tags": []
   },
   "outputs": [
    {
     "name": "stdout",
     "output_type": "stream",
     "text": [
      "Jumlah baris sebelum memfilter outlier: 19\n",
      "Jumlah baris setelah memfilter outlier: 18\n"
     ]
    }
   ],
   "source": [
    "print(f'Jumlah baris sebelum memfilter outlier: {len(df1)}')\n",
    "\n",
    "filtered_entries = np.array([False] * len(df1))\n",
    "for col in ['Operating Profit Margin']:\n",
    "    zscore = abs(stats.zscore(df1[col]))\n",
    "    filtered_entries = (zscore < 3) | filtered_entries\n",
    "    \n",
    "df1 = df1[filtered_entries]\n",
    "\n",
    "print(f'Jumlah baris setelah memfilter outlier: {len(df1)}')"
   ]
  },
  {
   "cell_type": "code",
   "execution_count": 12,
   "id": "41bdd576",
   "metadata": {
    "execution": {
     "iopub.execute_input": "2022-04-20T14:19:59.499010Z",
     "iopub.status.busy": "2022-04-20T14:19:59.498159Z",
     "iopub.status.idle": "2022-04-20T14:19:59.521172Z",
     "shell.execute_reply": "2022-04-20T14:19:59.520517Z"
    },
    "papermill": {
     "duration": 0.072632,
     "end_time": "2022-04-20T14:19:59.523293",
     "exception": false,
     "start_time": "2022-04-20T14:19:59.450661",
     "status": "completed"
    },
    "tags": []
   },
   "outputs": [
    {
     "data": {
      "text/html": [
       "<div>\n",
       "<style scoped>\n",
       "    .dataframe tbody tr th:only-of-type {\n",
       "        vertical-align: middle;\n",
       "    }\n",
       "\n",
       "    .dataframe tbody tr th {\n",
       "        vertical-align: top;\n",
       "    }\n",
       "\n",
       "    .dataframe thead th {\n",
       "        text-align: right;\n",
       "    }\n",
       "</style>\n",
       "<table border=\"1\" class=\"dataframe\">\n",
       "  <thead>\n",
       "    <tr style=\"text-align: right;\">\n",
       "      <th></th>\n",
       "      <th>DER</th>\n",
       "      <th>Operating Profit Margin</th>\n",
       "      <th>return of asset</th>\n",
       "      <th>Category</th>\n",
       "    </tr>\n",
       "  </thead>\n",
       "  <tbody>\n",
       "    <tr>\n",
       "      <th>count</th>\n",
       "      <td>18.000000</td>\n",
       "      <td>18.000000</td>\n",
       "      <td>18.000000</td>\n",
       "      <td>0.0</td>\n",
       "    </tr>\n",
       "    <tr>\n",
       "      <th>mean</th>\n",
       "      <td>1.701468</td>\n",
       "      <td>0.076115</td>\n",
       "      <td>0.039138</td>\n",
       "      <td>NaN</td>\n",
       "    </tr>\n",
       "    <tr>\n",
       "      <th>std</th>\n",
       "      <td>2.689341</td>\n",
       "      <td>0.324893</td>\n",
       "      <td>0.121038</td>\n",
       "      <td>NaN</td>\n",
       "    </tr>\n",
       "    <tr>\n",
       "      <th>min</th>\n",
       "      <td>-1.322743</td>\n",
       "      <td>-0.980925</td>\n",
       "      <td>-0.178472</td>\n",
       "      <td>NaN</td>\n",
       "    </tr>\n",
       "    <tr>\n",
       "      <th>25%</th>\n",
       "      <td>0.419312</td>\n",
       "      <td>0.009941</td>\n",
       "      <td>-0.020837</td>\n",
       "      <td>NaN</td>\n",
       "    </tr>\n",
       "    <tr>\n",
       "      <th>50%</th>\n",
       "      <td>0.757266</td>\n",
       "      <td>0.172038</td>\n",
       "      <td>0.048089</td>\n",
       "      <td>NaN</td>\n",
       "    </tr>\n",
       "    <tr>\n",
       "      <th>75%</th>\n",
       "      <td>1.593823</td>\n",
       "      <td>0.233867</td>\n",
       "      <td>0.077902</td>\n",
       "      <td>NaN</td>\n",
       "    </tr>\n",
       "    <tr>\n",
       "      <th>max</th>\n",
       "      <td>10.614012</td>\n",
       "      <td>0.458206</td>\n",
       "      <td>0.405886</td>\n",
       "      <td>NaN</td>\n",
       "    </tr>\n",
       "  </tbody>\n",
       "</table>\n",
       "</div>"
      ],
      "text/plain": [
       "             DER  Operating Profit Margin  return of asset  Category\n",
       "count  18.000000                18.000000        18.000000       0.0\n",
       "mean    1.701468                 0.076115         0.039138       NaN\n",
       "std     2.689341                 0.324893         0.121038       NaN\n",
       "min    -1.322743                -0.980925        -0.178472       NaN\n",
       "25%     0.419312                 0.009941        -0.020837       NaN\n",
       "50%     0.757266                 0.172038         0.048089       NaN\n",
       "75%     1.593823                 0.233867         0.077902       NaN\n",
       "max    10.614012                 0.458206         0.405886       NaN"
      ]
     },
     "execution_count": 12,
     "metadata": {},
     "output_type": "execute_result"
    }
   ],
   "source": [
    "df1.describe()"
   ]
  },
  {
   "cell_type": "code",
   "execution_count": 13,
   "id": "3ac80226",
   "metadata": {
    "execution": {
     "iopub.execute_input": "2022-04-20T14:19:59.624414Z",
     "iopub.status.busy": "2022-04-20T14:19:59.623828Z",
     "iopub.status.idle": "2022-04-20T14:19:59.787539Z",
     "shell.execute_reply": "2022-04-20T14:19:59.786615Z"
    },
    "papermill": {
     "duration": 0.217572,
     "end_time": "2022-04-20T14:19:59.790163",
     "exception": false,
     "start_time": "2022-04-20T14:19:59.572591",
     "status": "completed"
    },
    "tags": []
   },
   "outputs": [
    {
     "data": {
      "text/html": [
       "<div>\n",
       "<style scoped>\n",
       "    .dataframe tbody tr th:only-of-type {\n",
       "        vertical-align: middle;\n",
       "    }\n",
       "\n",
       "    .dataframe tbody tr th {\n",
       "        vertical-align: top;\n",
       "    }\n",
       "\n",
       "    .dataframe thead th {\n",
       "        text-align: right;\n",
       "    }\n",
       "</style>\n",
       "<table border=\"1\" class=\"dataframe\">\n",
       "  <thead>\n",
       "    <tr style=\"text-align: right;\">\n",
       "      <th></th>\n",
       "      <th>DER</th>\n",
       "      <th>Operating Profit Margin</th>\n",
       "      <th>return of asset</th>\n",
       "    </tr>\n",
       "  </thead>\n",
       "  <tbody>\n",
       "    <tr>\n",
       "      <th>count</th>\n",
       "      <td>1.800000e+01</td>\n",
       "      <td>1.800000e+01</td>\n",
       "      <td>1.800000e+01</td>\n",
       "    </tr>\n",
       "    <tr>\n",
       "      <th>mean</th>\n",
       "      <td>-2.467162e-17</td>\n",
       "      <td>4.625929e-17</td>\n",
       "      <td>2.158767e-17</td>\n",
       "    </tr>\n",
       "    <tr>\n",
       "      <th>std</th>\n",
       "      <td>1.028992e+00</td>\n",
       "      <td>1.028992e+00</td>\n",
       "      <td>1.028992e+00</td>\n",
       "    </tr>\n",
       "    <tr>\n",
       "      <th>min</th>\n",
       "      <td>-1.157119e+00</td>\n",
       "      <td>-3.347827e+00</td>\n",
       "      <td>-1.849993e+00</td>\n",
       "    </tr>\n",
       "    <tr>\n",
       "      <th>25%</th>\n",
       "      <td>-4.905768e-01</td>\n",
       "      <td>-2.095839e-01</td>\n",
       "      <td>-5.098703e-01</td>\n",
       "    </tr>\n",
       "    <tr>\n",
       "      <th>50%</th>\n",
       "      <td>-3.612694e-01</td>\n",
       "      <td>3.038043e-01</td>\n",
       "      <td>7.609588e-02</td>\n",
       "    </tr>\n",
       "    <tr>\n",
       "      <th>75%</th>\n",
       "      <td>-4.118713e-02</td>\n",
       "      <td>4.996275e-01</td>\n",
       "      <td>3.295530e-01</td>\n",
       "    </tr>\n",
       "    <tr>\n",
       "      <th>max</th>\n",
       "      <td>3.410104e+00</td>\n",
       "      <td>1.210151e+00</td>\n",
       "      <td>3.117884e+00</td>\n",
       "    </tr>\n",
       "  </tbody>\n",
       "</table>\n",
       "</div>"
      ],
      "text/plain": [
       "                DER  Operating Profit Margin  return of asset\n",
       "count  1.800000e+01             1.800000e+01     1.800000e+01\n",
       "mean  -2.467162e-17             4.625929e-17     2.158767e-17\n",
       "std    1.028992e+00             1.028992e+00     1.028992e+00\n",
       "min   -1.157119e+00            -3.347827e+00    -1.849993e+00\n",
       "25%   -4.905768e-01            -2.095839e-01    -5.098703e-01\n",
       "50%   -3.612694e-01             3.038043e-01     7.609588e-02\n",
       "75%   -4.118713e-02             4.996275e-01     3.295530e-01\n",
       "max    3.410104e+00             1.210151e+00     3.117884e+00"
      ]
     },
     "execution_count": 13,
     "metadata": {},
     "output_type": "execute_result"
    }
   ],
   "source": [
    "feats = ['DER','Operating Profit Margin','return of asset']\n",
    "X = df1[feats].values\n",
    "y = df1['Category'].values\n",
    "\n",
    "from sklearn.preprocessing import StandardScaler\n",
    "X_std = StandardScaler().fit_transform(X)\n",
    "new_df = pd.DataFrame(data = X_std, columns = feats)\n",
    "new_df.describe()"
   ]
  },
  {
   "cell_type": "code",
   "execution_count": 14,
   "id": "7cb6fa4f",
   "metadata": {
    "execution": {
     "iopub.execute_input": "2022-04-20T14:19:59.887057Z",
     "iopub.status.busy": "2022-04-20T14:19:59.886589Z",
     "iopub.status.idle": "2022-04-20T14:20:00.181322Z",
     "shell.execute_reply": "2022-04-20T14:20:00.180535Z"
    },
    "papermill": {
     "duration": 0.346303,
     "end_time": "2022-04-20T14:20:00.183732",
     "exception": false,
     "start_time": "2022-04-20T14:19:59.837429",
     "status": "completed"
    },
    "tags": []
   },
   "outputs": [],
   "source": [
    "from sklearn.cluster import KMeans\n",
    "wcss=[]"
   ]
  },
  {
   "cell_type": "code",
   "execution_count": 15,
   "id": "b5918950",
   "metadata": {
    "execution": {
     "iopub.execute_input": "2022-04-20T14:20:00.281937Z",
     "iopub.status.busy": "2022-04-20T14:20:00.281337Z",
     "iopub.status.idle": "2022-04-20T14:20:00.287761Z",
     "shell.execute_reply": "2022-04-20T14:20:00.286846Z"
    },
    "papermill": {
     "duration": 0.058259,
     "end_time": "2022-04-20T14:20:00.289793",
     "exception": false,
     "start_time": "2022-04-20T14:20:00.231534",
     "status": "completed"
    },
    "tags": []
   },
   "outputs": [
    {
     "data": {
      "text/plain": [
       "(19, 6)"
      ]
     },
     "execution_count": 15,
     "metadata": {},
     "output_type": "execute_result"
    }
   ],
   "source": [
    "df0.shape"
   ]
  },
  {
   "cell_type": "code",
   "execution_count": 16,
   "id": "62eb7134",
   "metadata": {
    "execution": {
     "iopub.execute_input": "2022-04-20T14:20:00.391194Z",
     "iopub.status.busy": "2022-04-20T14:20:00.390863Z",
     "iopub.status.idle": "2022-04-20T14:20:00.876280Z",
     "shell.execute_reply": "2022-04-20T14:20:00.874880Z"
    },
    "papermill": {
     "duration": 0.539265,
     "end_time": "2022-04-20T14:20:00.878898",
     "exception": false,
     "start_time": "2022-04-20T14:20:00.339633",
     "status": "completed"
    },
    "tags": []
   },
   "outputs": [
    {
     "data": {
      "text/plain": [
       "[<matplotlib.lines.Line2D at 0x7fe71b60e710>]"
      ]
     },
     "execution_count": 16,
     "metadata": {},
     "output_type": "execute_result"
    },
    {
     "data": {
      "image/png": "[encoded data removed]",
      "text/plain": [
       "<Figure size 864x432 with 1 Axes>"
      ]
     },
     "metadata": {
      "needs_background": "light"
     },
     "output_type": "display_data"
    }
   ],
   "source": [
    "from sklearn.cluster import KMeans\n",
    "inertia = []\n",
    "\n",
    "for i in range(1, 7):\n",
    "  kmeans = KMeans(n_clusters=i, init='k-means++', max_iter=300, n_init=10, random_state=0)\n",
    "  kmeans.fit(new_df.values)\n",
    "  inertia.append(kmeans.inertia_)\n",
    "\n",
    "plt.figure(figsize=(12, 6))\n",
    "plt.plot(inertia) #Elbow Method"
   ]
  },
  {
   "cell_type": "code",
   "execution_count": 17,
   "id": "e76b130d",
   "metadata": {
    "execution": {
     "iopub.execute_input": "2022-04-20T14:20:00.980345Z",
     "iopub.status.busy": "2022-04-20T14:20:00.979354Z",
     "iopub.status.idle": "2022-04-20T14:20:01.006590Z",
     "shell.execute_reply": "2022-04-20T14:20:01.005447Z"
    },
    "papermill": {
     "duration": 0.080543,
     "end_time": "2022-04-20T14:20:01.009136",
     "exception": false,
     "start_time": "2022-04-20T14:20:00.928593",
     "status": "completed"
    },
    "tags": []
   },
   "outputs": [
    {
     "data": {
      "text/plain": [
       "KMeans(n_clusters=3, random_state=0)"
      ]
     },
     "execution_count": 17,
     "metadata": {},
     "output_type": "execute_result"
    }
   ],
   "source": [
    "from sklearn.cluster import KMeans\n",
    "kmeans = KMeans(n_clusters=3, init='k-means++', max_iter=300, n_init=10, random_state=0)\n",
    "kmeans.fit(new_df.values)"
   ]
  },
  {
   "cell_type": "code",
   "execution_count": 18,
   "id": "09eccfa7",
   "metadata": {
    "execution": {
     "iopub.execute_input": "2022-04-20T14:20:01.113251Z",
     "iopub.status.busy": "2022-04-20T14:20:01.112954Z",
     "iopub.status.idle": "2022-04-20T14:20:01.120550Z",
     "shell.execute_reply": "2022-04-20T14:20:01.119157Z"
    },
    "papermill": {
     "duration": 0.060908,
     "end_time": "2022-04-20T14:20:01.122791",
     "exception": false,
     "start_time": "2022-04-20T14:20:01.061883",
     "status": "completed"
    },
    "tags": []
   },
   "outputs": [],
   "source": [
    "new_df['target'] = y\n",
    "new_df['fit'] = kmeans.labels_\n"
   ]
  },
  {
   "cell_type": "code",
   "execution_count": 19,
   "id": "0deb1edb",
   "metadata": {
    "execution": {
     "iopub.execute_input": "2022-04-20T14:20:01.226484Z",
     "iopub.status.busy": "2022-04-20T14:20:01.226133Z",
     "iopub.status.idle": "2022-04-20T14:20:01.458384Z",
     "shell.execute_reply": "2022-04-20T14:20:01.457444Z"
    },
    "papermill": {
     "duration": 0.288633,
     "end_time": "2022-04-20T14:20:01.460813",
     "exception": false,
     "start_time": "2022-04-20T14:20:01.172180",
     "status": "completed"
    },
    "tags": []
   },
   "outputs": [
    {
     "data": {
      "image/png": "[encoded data removed]",
      "text/plain": [
       "<Figure size 576x576 with 1 Axes>"
      ]
     },
     "metadata": {
      "needs_background": "light"
     },
     "output_type": "display_data"
    }
   ],
   "source": [
    "plt.rcParams[\"figure.figsize\"] = (8, 8)\n",
    "sns.scatterplot(x='DER', y='Operating Profit Margin', hue=new_df.target.to_list(), data=new_df);"
   ]
  },
  {
   "cell_type": "code",
   "execution_count": 20,
   "id": "425c4d3a",
   "metadata": {
    "execution": {
     "iopub.execute_input": "2022-04-20T14:20:01.564738Z",
     "iopub.status.busy": "2022-04-20T14:20:01.564068Z",
     "iopub.status.idle": "2022-04-20T14:20:01.578545Z",
     "shell.execute_reply": "2022-04-20T14:20:01.577753Z"
    },
    "papermill": {
     "duration": 0.069481,
     "end_time": "2022-04-20T14:20:01.580683",
     "exception": false,
     "start_time": "2022-04-20T14:20:01.511202",
     "status": "completed"
    },
    "tags": []
   },
   "outputs": [
    {
     "data": {
      "text/html": [
       "<div>\n",
       "<style scoped>\n",
       "    .dataframe tbody tr th:only-of-type {\n",
       "        vertical-align: middle;\n",
       "    }\n",
       "\n",
       "    .dataframe tbody tr th {\n",
       "        vertical-align: top;\n",
       "    }\n",
       "\n",
       "    .dataframe thead th {\n",
       "        text-align: right;\n",
       "    }\n",
       "</style>\n",
       "<table border=\"1\" class=\"dataframe\">\n",
       "  <thead>\n",
       "    <tr style=\"text-align: right;\">\n",
       "      <th></th>\n",
       "      <th>DER</th>\n",
       "      <th>Operating Profit Margin</th>\n",
       "      <th>return of asset</th>\n",
       "      <th>target</th>\n",
       "      <th>fit</th>\n",
       "    </tr>\n",
       "  </thead>\n",
       "  <tbody>\n",
       "    <tr>\n",
       "      <th>0</th>\n",
       "      <td>-0.599301</td>\n",
       "      <td>0.186989</td>\n",
       "      <td>0.218572</td>\n",
       "      <td>NaN</td>\n",
       "      <td>0</td>\n",
       "    </tr>\n",
       "    <tr>\n",
       "      <th>1</th>\n",
       "      <td>-0.360660</td>\n",
       "      <td>-0.445530</td>\n",
       "      <td>-0.885094</td>\n",
       "      <td>NaN</td>\n",
       "      <td>0</td>\n",
       "    </tr>\n",
       "    <tr>\n",
       "      <th>2</th>\n",
       "      <td>-0.499855</td>\n",
       "      <td>0.506469</td>\n",
       "      <td>0.188653</td>\n",
       "      <td>NaN</td>\n",
       "      <td>0</td>\n",
       "    </tr>\n",
       "    <tr>\n",
       "      <th>3</th>\n",
       "      <td>-0.650775</td>\n",
       "      <td>0.479104</td>\n",
       "      <td>0.682278</td>\n",
       "      <td>NaN</td>\n",
       "      <td>0</td>\n",
       "    </tr>\n",
       "    <tr>\n",
       "      <th>4</th>\n",
       "      <td>0.694736</td>\n",
       "      <td>-1.546598</td>\n",
       "      <td>-1.323296</td>\n",
       "      <td>NaN</td>\n",
       "      <td>1</td>\n",
       "    </tr>\n",
       "  </tbody>\n",
       "</table>\n",
       "</div>"
      ],
      "text/plain": [
       "        DER  Operating Profit Margin  return of asset  target  fit\n",
       "0 -0.599301                 0.186989         0.218572     NaN    0\n",
       "1 -0.360660                -0.445530        -0.885094     NaN    0\n",
       "2 -0.499855                 0.506469         0.188653     NaN    0\n",
       "3 -0.650775                 0.479104         0.682278     NaN    0\n",
       "4  0.694736                -1.546598        -1.323296     NaN    1"
      ]
     },
     "execution_count": 20,
     "metadata": {},
     "output_type": "execute_result"
    }
   ],
   "source": [
    "new_df.head(5)"
   ]
  },
  {
   "cell_type": "code",
   "execution_count": 21,
   "id": "e2e21772",
   "metadata": {
    "execution": {
     "iopub.execute_input": "2022-04-20T14:20:01.685640Z",
     "iopub.status.busy": "2022-04-20T14:20:01.685006Z",
     "iopub.status.idle": "2022-04-20T14:20:01.706446Z",
     "shell.execute_reply": "2022-04-20T14:20:01.705437Z"
    },
    "papermill": {
     "duration": 0.077357,
     "end_time": "2022-04-20T14:20:01.709129",
     "exception": false,
     "start_time": "2022-04-20T14:20:01.631772",
     "status": "completed"
    },
    "tags": []
   },
   "outputs": [
    {
     "data": {
      "text/html": [
       "<div>\n",
       "<style scoped>\n",
       "    .dataframe tbody tr th:only-of-type {\n",
       "        vertical-align: middle;\n",
       "    }\n",
       "\n",
       "    .dataframe tbody tr th {\n",
       "        vertical-align: top;\n",
       "    }\n",
       "\n",
       "    .dataframe thead th {\n",
       "        text-align: right;\n",
       "    }\n",
       "</style>\n",
       "<table border=\"1\" class=\"dataframe\">\n",
       "  <thead>\n",
       "    <tr style=\"text-align: right;\">\n",
       "      <th></th>\n",
       "      <th>Category</th>\n",
       "      <th>DER</th>\n",
       "      <th>Operating Profit Margin</th>\n",
       "      <th>return of asset</th>\n",
       "      <th>target</th>\n",
       "      <th>fit</th>\n",
       "    </tr>\n",
       "  </thead>\n",
       "  <tbody>\n",
       "    <tr>\n",
       "      <th>0</th>\n",
       "      <td>2</td>\n",
       "      <td>-0.599301</td>\n",
       "      <td>0.186989</td>\n",
       "      <td>0.218572</td>\n",
       "      <td>NaN</td>\n",
       "      <td>0</td>\n",
       "    </tr>\n",
       "    <tr>\n",
       "      <th>1</th>\n",
       "      <td>2</td>\n",
       "      <td>-0.360660</td>\n",
       "      <td>-0.445530</td>\n",
       "      <td>-0.885094</td>\n",
       "      <td>NaN</td>\n",
       "      <td>0</td>\n",
       "    </tr>\n",
       "    <tr>\n",
       "      <th>2</th>\n",
       "      <td>2</td>\n",
       "      <td>-0.499855</td>\n",
       "      <td>0.506469</td>\n",
       "      <td>0.188653</td>\n",
       "      <td>NaN</td>\n",
       "      <td>0</td>\n",
       "    </tr>\n",
       "    <tr>\n",
       "      <th>3</th>\n",
       "      <td>2</td>\n",
       "      <td>-0.650775</td>\n",
       "      <td>0.479104</td>\n",
       "      <td>0.682278</td>\n",
       "      <td>NaN</td>\n",
       "      <td>0</td>\n",
       "    </tr>\n",
       "    <tr>\n",
       "      <th>4</th>\n",
       "      <td>4</td>\n",
       "      <td>0.694736</td>\n",
       "      <td>-1.546598</td>\n",
       "      <td>-1.323296</td>\n",
       "      <td>NaN</td>\n",
       "      <td>1</td>\n",
       "    </tr>\n",
       "  </tbody>\n",
       "</table>\n",
       "</div>"
      ],
      "text/plain": [
       "   Category       DER  Operating Profit Margin  return of asset  target  fit\n",
       "0         2 -0.599301                 0.186989         0.218572     NaN    0\n",
       "1         2 -0.360660                -0.445530        -0.885094     NaN    0\n",
       "2         2 -0.499855                 0.506469         0.188653     NaN    0\n",
       "3         2 -0.650775                 0.479104         0.682278     NaN    0\n",
       "4         4  0.694736                -1.546598        -1.323296     NaN    1"
      ]
     },
     "execution_count": 21,
     "metadata": {},
     "output_type": "execute_result"
    }
   ],
   "source": [
    "new_df.insert(0,\"Category\",np.nan,True)\n",
    "new_df.loc[new_df['fit'] == 0, 'Category'] = 2\n",
    "new_df.loc[new_df['fit'] == 1, 'Category'] = 4\n",
    "new_df.loc[new_df['fit'] == 2, 'Category'] = 1\n",
    "new_df.loc[new_df['fit'] == 3, 'Category'] = 0\n",
    "new_df.loc[new_df['fit'] == 4, 'Category'] = 3\n",
    "new_df['Category'] = new_df['Category'].astype(int)\n",
    "new_df.head(5)"
   ]
  },
  {
   "cell_type": "code",
   "execution_count": 22,
   "id": "0567982f",
   "metadata": {
    "execution": {
     "iopub.execute_input": "2022-04-20T14:20:01.816813Z",
     "iopub.status.busy": "2022-04-20T14:20:01.816473Z",
     "iopub.status.idle": "2022-04-20T14:20:01.832862Z",
     "shell.execute_reply": "2022-04-20T14:20:01.831924Z"
    },
    "papermill": {
     "duration": 0.074005,
     "end_time": "2022-04-20T14:20:01.835354",
     "exception": false,
     "start_time": "2022-04-20T14:20:01.761349",
     "status": "completed"
    },
    "tags": []
   },
   "outputs": [
    {
     "name": "stdout",
     "output_type": "stream",
     "text": [
      "<class 'pandas.core.frame.DataFrame'>\n",
      "RangeIndex: 18 entries, 0 to 17\n",
      "Data columns (total 4 columns):\n",
      " #   Column                         Non-Null Count  Dtype  \n",
      "---  ------                         --------------  -----  \n",
      " 0   Category                       18 non-null     int64  \n",
      " 1   DER (St.)                      18 non-null     float64\n",
      " 2   Operating Profit Margin (St.)  18 non-null     float64\n",
      " 3   sales growth (St.)             18 non-null     float64\n",
      "dtypes: float64(3), int64(1)\n",
      "memory usage: 704.0 bytes\n"
     ]
    }
   ],
   "source": [
    "new_df.drop([\"fit\",\"target\"], axis=1, inplace=True)\n",
    "new_df.columns = ['Category','DER (St.)','Operating Profit Margin (St.)', 'sales growth (St.)']\n",
    "new_df.info()"
   ]
  },
  {
   "cell_type": "code",
   "execution_count": 23,
   "id": "a192cc72",
   "metadata": {
    "execution": {
     "iopub.execute_input": "2022-04-20T14:20:01.943164Z",
     "iopub.status.busy": "2022-04-20T14:20:01.942801Z",
     "iopub.status.idle": "2022-04-20T14:20:02.469910Z",
     "shell.execute_reply": "2022-04-20T14:20:02.468624Z"
    },
    "papermill": {
     "duration": 0.584288,
     "end_time": "2022-04-20T14:20:02.472348",
     "exception": false,
     "start_time": "2022-04-20T14:20:01.888060",
     "status": "completed"
    },
    "tags": []
   },
   "outputs": [
    {
     "data": {
      "image/png": "[encoded data removed]",
      "text/plain": [
       "<Figure size 576x576 with 1 Axes>"
      ]
     },
     "metadata": {
      "needs_background": "light"
     },
     "output_type": "display_data"
    }
   ],
   "source": [
    "from mpl_toolkits.mplot3d import Axes3D\n",
    "\n",
    "fig = plt.figure()\n",
    "ax = fig.add_subplot(111, projection = '3d')\n",
    "\n",
    "\n",
    "x = new_df['DER (St.)']\n",
    "y = new_df['Operating Profit Margin (St.)']\n",
    "z = new_df['sales growth (St.)']\n",
    "\n",
    "ax.set_xlabel(\"DER (St.)\")\n",
    "ax.set_ylabel(\"Operating Profit Margin (St.)\")\n",
    "ax.set_zlabel(\"sales growth (St.)\")\n",
    "\n",
    "cmap = ListedColormap(sns.color_palette(\"RdYlGn\", 256).as_hex())\n",
    "\n",
    "sc = ax.scatter(x, y, z, s=40, c=new_df['Category'], marker='o', cmap=cmap, alpha=1)\n",
    "plt.legend(*sc.legend_elements(), bbox_to_anchor=(1.05, 1), loc=2)\n",
    "\n",
    "plt.show()"
   ]
  },
  {
   "cell_type": "code",
   "execution_count": 24,
   "id": "3fe3da7a",
   "metadata": {
    "execution": {
     "iopub.execute_input": "2022-04-20T14:20:02.585479Z",
     "iopub.status.busy": "2022-04-20T14:20:02.585050Z",
     "iopub.status.idle": "2022-04-20T14:20:02.898700Z",
     "shell.execute_reply": "2022-04-20T14:20:02.897456Z"
    },
    "papermill": {
     "duration": 0.374523,
     "end_time": "2022-04-20T14:20:02.900779",
     "exception": false,
     "start_time": "2022-04-20T14:20:02.526256",
     "status": "completed"
    },
    "tags": []
   },
   "outputs": [
    {
     "data": {
      "image/png": "[encoded data removed]",
      "text/plain": [
       "<Figure size 576x576 with 1 Axes>"
      ]
     },
     "metadata": {
      "needs_background": "light"
     },
     "output_type": "display_data"
    }
   ],
   "source": [
    "# color palette as dictionary\n",
    "palette = {0:\"tab:red\",\n",
    "           1:\"tab:orange\", \n",
    "           2:\"yellow\",\n",
    "           3:\"lime\",\n",
    "           4:\"darkgreen\"}\n",
    "\n",
    "sns.scatterplot(x='DER (St.)', y='sales growth (St.)', \n",
    "                hue='Category', data=new_df, s=80,\n",
    "                palette=palette)\n",
    "plt.title(\"DER vs sales growth (Standardisasi)\", fontsize=18, y=1.05)\n",
    "plt.show()"
   ]
  },
  {
   "cell_type": "code",
   "execution_count": 25,
   "id": "e380e1b2",
   "metadata": {
    "execution": {
     "iopub.execute_input": "2022-04-20T14:20:03.014472Z",
     "iopub.status.busy": "2022-04-20T14:20:03.014100Z",
     "iopub.status.idle": "2022-04-20T14:20:03.308596Z",
     "shell.execute_reply": "2022-04-20T14:20:03.307428Z"
    },
    "papermill": {
     "duration": 0.354421,
     "end_time": "2022-04-20T14:20:03.311301",
     "exception": false,
     "start_time": "2022-04-20T14:20:02.956880",
     "status": "completed"
    },
    "tags": []
   },
   "outputs": [
    {
     "data": {
      "image/png": "[encoded data removed]",
      "text/plain": [
       "<Figure size 576x576 with 1 Axes>"
      ]
     },
     "metadata": {
      "needs_background": "light"
     },
     "output_type": "display_data"
    }
   ],
   "source": [
    "sns.scatterplot(x='Operating Profit Margin (St.)', y='sales growth (St.)', \n",
    "                hue='Category', data=new_df, s=80,\n",
    "                palette=palette)\n",
    "plt.title(\"Operating Profit Margin vs sales growth (Standardisasi)\", fontsize=18, y=1.05)\n",
    "plt.show()"
   ]
  },
  {
   "cell_type": "code",
   "execution_count": 26,
   "id": "28bd4aa2",
   "metadata": {
    "execution": {
     "iopub.execute_input": "2022-04-20T14:20:03.428388Z",
     "iopub.status.busy": "2022-04-20T14:20:03.428103Z",
     "iopub.status.idle": "2022-04-20T14:20:03.718061Z",
     "shell.execute_reply": "2022-04-20T14:20:03.716935Z"
    },
    "papermill": {
     "duration": 0.351319,
     "end_time": "2022-04-20T14:20:03.720940",
     "exception": false,
     "start_time": "2022-04-20T14:20:03.369621",
     "status": "completed"
    },
    "tags": []
   },
   "outputs": [
    {
     "data": {
      "image/png": "[encoded data removed]",
      "text/plain": [
       "<Figure size 576x576 with 1 Axes>"
      ]
     },
     "metadata": {
      "needs_background": "light"
     },
     "output_type": "display_data"
    }
   ],
   "source": [
    "sns.scatterplot(x='DER (St.)', y='Operating Profit Margin (St.)', \n",
    "                hue='Category', data=new_df, s=80,\n",
    "                palette=palette)\n",
    "plt.title(\"DER vs Operating Profit Margin (Standardisasi)\", fontsize=18, y=1.05)\n",
    "plt.show()"
   ]
  },
  {
   "cell_type": "code",
   "execution_count": 27,
   "id": "7493c574",
   "metadata": {
    "execution": {
     "iopub.execute_input": "2022-04-20T14:20:03.846060Z",
     "iopub.status.busy": "2022-04-20T14:20:03.845720Z",
     "iopub.status.idle": "2022-04-20T14:20:03.855112Z",
     "shell.execute_reply": "2022-04-20T14:20:03.854338Z"
    },
    "papermill": {
     "duration": 0.07641,
     "end_time": "2022-04-20T14:20:03.857017",
     "exception": false,
     "start_time": "2022-04-20T14:20:03.780607",
     "status": "completed"
    },
    "tags": []
   },
   "outputs": [],
   "source": [
    "# drop these row indexes\n",
    "# from dataFrame\n",
    "index_names = df0[ df0['Emitten'] == 'ARTO' ].index\n",
    "df0.drop(index_names, inplace = True)\n",
    "df0.reset_index(drop=True, inplace=True)\n",
    "df0.drop([\"Category\"\n",
    "         ], axis=1, inplace=True)"
   ]
  },
  {
   "cell_type": "code",
   "execution_count": 28,
   "id": "7209e9cf",
   "metadata": {
    "execution": {
     "iopub.execute_input": "2022-04-20T14:20:03.978705Z",
     "iopub.status.busy": "2022-04-20T14:20:03.978110Z",
     "iopub.status.idle": "2022-04-20T14:20:04.020842Z",
     "shell.execute_reply": "2022-04-20T14:20:04.019929Z"
    },
    "papermill": {
     "duration": 0.106799,
     "end_time": "2022-04-20T14:20:04.023211",
     "exception": false,
     "start_time": "2022-04-20T14:20:03.916412",
     "status": "completed"
    },
    "tags": []
   },
   "outputs": [
    {
     "data": {
      "text/html": [
       "<div>\n",
       "<style scoped>\n",
       "    .dataframe tbody tr th:only-of-type {\n",
       "        vertical-align: middle;\n",
       "    }\n",
       "\n",
       "    .dataframe tbody tr th {\n",
       "        vertical-align: top;\n",
       "    }\n",
       "\n",
       "    .dataframe thead th {\n",
       "        text-align: right;\n",
       "    }\n",
       "</style>\n",
       "<table border=\"1\" class=\"dataframe\">\n",
       "  <thead>\n",
       "    <tr style=\"text-align: right;\">\n",
       "      <th></th>\n",
       "      <th>Industry</th>\n",
       "      <th>Company</th>\n",
       "      <th>Category</th>\n",
       "      <th>DER (St.)</th>\n",
       "      <th>Operating Profit Margin (St.)</th>\n",
       "      <th>sales growth (St.)</th>\n",
       "      <th>Emitten</th>\n",
       "      <th>DER</th>\n",
       "      <th>Operating Profit Margin</th>\n",
       "      <th>sales growth</th>\n",
       "      <th>return of asset</th>\n",
       "    </tr>\n",
       "  </thead>\n",
       "  <tbody>\n",
       "    <tr>\n",
       "      <th>0</th>\n",
       "      <td>Pertanian</td>\n",
       "      <td>PT Astra Agro Lestari Tbk (AALI.JK)</td>\n",
       "      <td>2.0</td>\n",
       "      <td>-0.599301</td>\n",
       "      <td>0.186989</td>\n",
       "      <td>0.218572</td>\n",
       "      <td>AALI.JK</td>\n",
       "      <td>0.135154</td>\n",
       "      <td>0.135154</td>\n",
       "      <td>1.293241473</td>\n",
       "      <td>0.064848</td>\n",
       "    </tr>\n",
       "    <tr>\n",
       "      <th>1</th>\n",
       "      <td>Pertanian</td>\n",
       "      <td>PT. Andira Agro, Tbk (ANDI.JK)</td>\n",
       "      <td>2.0</td>\n",
       "      <td>-0.360660</td>\n",
       "      <td>-0.445530</td>\n",
       "      <td>-0.885094</td>\n",
       "      <td>ANDI.JK</td>\n",
       "      <td>0.758859</td>\n",
       "      <td>-0.064557</td>\n",
       "      <td>0.834610166</td>\n",
       "      <td>-0.064974</td>\n",
       "    </tr>\n",
       "    <tr>\n",
       "      <th>2</th>\n",
       "      <td>Pertanian</td>\n",
       "      <td>PT Austindo Nusantara Jaya Tbk (ANJT.JK)</td>\n",
       "      <td>2.0</td>\n",
       "      <td>-0.499855</td>\n",
       "      <td>0.506469</td>\n",
       "      <td>0.188653</td>\n",
       "      <td>ANJT.JK</td>\n",
       "      <td>0.395062</td>\n",
       "      <td>0.236027</td>\n",
       "      <td>1.625789153</td>\n",
       "      <td>0.061328</td>\n",
       "    </tr>\n",
       "    <tr>\n",
       "      <th>3</th>\n",
       "      <td>Pertanian</td>\n",
       "      <td>PT BISI International Tbk (BISI.JK)</td>\n",
       "      <td>2.0</td>\n",
       "      <td>-0.650775</td>\n",
       "      <td>0.479104</td>\n",
       "      <td>0.682278</td>\n",
       "      <td>BISI.JK</td>\n",
       "      <td>0.000624</td>\n",
       "      <td>0.227386</td>\n",
       "      <td>0.797726643</td>\n",
       "      <td>0.119392</td>\n",
       "    </tr>\n",
       "    <tr>\n",
       "      <th>4</th>\n",
       "      <td>Pertanian</td>\n",
       "      <td>PT Bumi Teknokultura Unggul Tbk (BTEK.JK)</td>\n",
       "      <td>4.0</td>\n",
       "      <td>0.694736</td>\n",
       "      <td>-1.546598</td>\n",
       "      <td>-1.323296</td>\n",
       "      <td>BTEK.JK</td>\n",
       "      <td>1.239184</td>\n",
       "      <td>-2.007213</td>\n",
       "      <td>1.451509962</td>\n",
       "      <td>-0.059932</td>\n",
       "    </tr>\n",
       "    <tr>\n",
       "      <th>5</th>\n",
       "      <td>Pertanian</td>\n",
       "      <td>PT Eagle High Plantations Tbk (BWPT.JK)</td>\n",
       "      <td>1.0</td>\n",
       "      <td>1.293972</td>\n",
       "      <td>0.808185</td>\n",
       "      <td>3.117884</td>\n",
       "      <td>BWPT.JK</td>\n",
       "      <td>3.517208</td>\n",
       "      <td>-0.412206</td>\n",
       "      <td>1,336,418,537</td>\n",
       "      <td>-0.116518</td>\n",
       "    </tr>\n",
       "  </tbody>\n",
       "</table>\n",
       "</div>"
      ],
      "text/plain": [
       "    Industry                                    Company  Category  DER (St.)  \\\n",
       "0  Pertanian        PT Astra Agro Lestari Tbk (AALI.JK)       2.0  -0.599301   \n",
       "1  Pertanian             PT. Andira Agro, Tbk (ANDI.JK)       2.0  -0.360660   \n",
       "2  Pertanian   PT Austindo Nusantara Jaya Tbk (ANJT.JK)       2.0  -0.499855   \n",
       "3  Pertanian        PT BISI International Tbk (BISI.JK)       2.0  -0.650775   \n",
       "4  Pertanian  PT Bumi Teknokultura Unggul Tbk (BTEK.JK)       4.0   0.694736   \n",
       "5  Pertanian    PT Eagle High Plantations Tbk (BWPT.JK)       1.0   1.293972   \n",
       "\n",
       "   Operating Profit Margin (St.)  sales growth (St.)  Emitten       DER  \\\n",
       "0                       0.186989            0.218572  AALI.JK  0.135154   \n",
       "1                      -0.445530           -0.885094  ANDI.JK  0.758859   \n",
       "2                       0.506469            0.188653  ANJT.JK  0.395062   \n",
       "3                       0.479104            0.682278  BISI.JK  0.000624   \n",
       "4                      -1.546598           -1.323296  BTEK.JK  1.239184   \n",
       "5                       0.808185            3.117884  BWPT.JK  3.517208   \n",
       "\n",
       "   Operating Profit Margin   sales growth  return of asset  \n",
       "0                 0.135154    1.293241473         0.064848  \n",
       "1                -0.064557    0.834610166        -0.064974  \n",
       "2                 0.236027    1.625789153         0.061328  \n",
       "3                 0.227386    0.797726643         0.119392  \n",
       "4                -2.007213    1.451509962        -0.059932  \n",
       "5                -0.412206  1,336,418,537        -0.116518  "
      ]
     },
     "execution_count": 28,
     "metadata": {},
     "output_type": "execute_result"
    }
   ],
   "source": [
    "dftemp = pd.read_csv('../input/dataclustering/pertanianemitten.csv')\n",
    "df = pd.concat([dftemp, new_df, df0], axis=1)\n",
    "df.head(6)"
   ]
  },
  {
   "cell_type": "code",
   "execution_count": 29,
   "id": "906a58a5",
   "metadata": {
    "execution": {
     "iopub.execute_input": "2022-04-20T14:20:04.144413Z",
     "iopub.status.busy": "2022-04-20T14:20:04.143705Z",
     "iopub.status.idle": "2022-04-20T14:20:04.153394Z",
     "shell.execute_reply": "2022-04-20T14:20:04.152387Z"
    },
    "papermill": {
     "duration": 0.072609,
     "end_time": "2022-04-20T14:20:04.155848",
     "exception": false,
     "start_time": "2022-04-20T14:20:04.083239",
     "status": "completed"
    },
    "tags": []
   },
   "outputs": [],
   "source": [
    "df.to_csv('result.csv', index = False)"
   ]
  },
  {
   "cell_type": "code",
   "execution_count": 30,
   "id": "1c56e28b",
   "metadata": {
    "execution": {
     "iopub.execute_input": "2022-04-20T14:20:04.276548Z",
     "iopub.status.busy": "2022-04-20T14:20:04.276184Z",
     "iopub.status.idle": "2022-04-20T14:20:04.284176Z",
     "shell.execute_reply": "2022-04-20T14:20:04.283064Z"
    },
    "papermill": {
     "duration": 0.071802,
     "end_time": "2022-04-20T14:20:04.286465",
     "exception": false,
     "start_time": "2022-04-20T14:20:04.214663",
     "status": "completed"
    },
    "tags": []
   },
   "outputs": [
    {
     "data": {
      "text/plain": [
       "array([[-0.43671556,  0.30790365,  0.06125829],\n",
       "       [ 1.60668209, -1.70627884, -1.32516684],\n",
       "       [ 1.29397158,  0.80818546,  3.1178844 ]])"
      ]
     },
     "execution_count": 30,
     "metadata": {},
     "output_type": "execute_result"
    }
   ],
   "source": [
    "kmeans.cluster_centers_"
   ]
  },
  {
   "cell_type": "code",
   "execution_count": 31,
   "id": "448200aa",
   "metadata": {
    "execution": {
     "iopub.execute_input": "2022-04-20T14:20:04.408321Z",
     "iopub.status.busy": "2022-04-20T14:20:04.407638Z",
     "iopub.status.idle": "2022-04-20T14:20:04.654334Z",
     "shell.execute_reply": "2022-04-20T14:20:04.653048Z"
    },
    "papermill": {
     "duration": 0.311738,
     "end_time": "2022-04-20T14:20:04.657352",
     "exception": false,
     "start_time": "2022-04-20T14:20:04.345614",
     "status": "completed"
    },
    "tags": []
   },
   "outputs": [
    {
     "data": {
      "image/png": "[encoded data removed]",
      "text/plain": [
       "<Figure size 576x576 with 1 Axes>"
      ]
     },
     "metadata": {
      "needs_background": "light"
     },
     "output_type": "display_data"
    }
   ],
   "source": [
    "from mpl_toolkits.mplot3d import Axes3D\n",
    "\n",
    "fig = plt.figure()\n",
    "ax = fig.add_subplot(111, projection = '3d')\n",
    "x = [-1.0747699 ,  1.60761561,  1.45000206]\n",
    "y = [ 1.25270712, -0.73415244, -1.22811141]\n",
    "z = [-0.47688144, -0.04643691,  0.33540692]\n",
    "\n",
    "ax.set_xlabel(\"DER (St.)\")\n",
    "ax.set_ylabel(\"Operating Profit Margin (St.)\")\n",
    "ax.set_zlabel(\"sales growth (St.)\")\n",
    "ax.scatter(x, y, z)\n",
    "plt.show()"
   ]
  },
  {
   "cell_type": "code",
   "execution_count": 32,
   "id": "8bc4e353",
   "metadata": {
    "execution": {
     "iopub.execute_input": "2022-04-20T14:20:04.782817Z",
     "iopub.status.busy": "2022-04-20T14:20:04.782507Z",
     "iopub.status.idle": "2022-04-20T14:20:04.822551Z",
     "shell.execute_reply": "2022-04-20T14:20:04.821639Z"
    },
    "papermill": {
     "duration": 0.106568,
     "end_time": "2022-04-20T14:20:04.825546",
     "exception": false,
     "start_time": "2022-04-20T14:20:04.718978",
     "status": "completed"
    },
    "tags": []
   },
   "outputs": [
    {
     "data": {
      "text/html": [
       "<div>\n",
       "<style scoped>\n",
       "    .dataframe tbody tr th:only-of-type {\n",
       "        vertical-align: middle;\n",
       "    }\n",
       "\n",
       "    .dataframe tbody tr th {\n",
       "        vertical-align: top;\n",
       "    }\n",
       "\n",
       "    .dataframe thead th {\n",
       "        text-align: right;\n",
       "    }\n",
       "</style>\n",
       "<table border=\"1\" class=\"dataframe\">\n",
       "  <thead>\n",
       "    <tr style=\"text-align: right;\">\n",
       "      <th></th>\n",
       "      <th>Category</th>\n",
       "      <th>DER (St.)</th>\n",
       "      <th>Operating Profit Margin (St.)</th>\n",
       "      <th>sales growth (St.)</th>\n",
       "      <th>DER</th>\n",
       "      <th>Operating Profit Margin</th>\n",
       "      <th>return of asset</th>\n",
       "    </tr>\n",
       "  </thead>\n",
       "  <tbody>\n",
       "    <tr>\n",
       "      <th>count</th>\n",
       "      <td>3.0</td>\n",
       "      <td>3.000000</td>\n",
       "      <td>3.000000</td>\n",
       "      <td>3.000000</td>\n",
       "      <td>3.000000</td>\n",
       "      <td>3.000000</td>\n",
       "      <td>3.000000</td>\n",
       "    </tr>\n",
       "    <tr>\n",
       "      <th>mean</th>\n",
       "      <td>4.0</td>\n",
       "      <td>1.606682</td>\n",
       "      <td>-1.706279</td>\n",
       "      <td>-1.325167</td>\n",
       "      <td>0.621339</td>\n",
       "      <td>-0.587859</td>\n",
       "      <td>-0.000922</td>\n",
       "    </tr>\n",
       "    <tr>\n",
       "      <th>std</th>\n",
       "      <td>0.0</td>\n",
       "      <td>1.561843</td>\n",
       "      <td>1.567819</td>\n",
       "      <td>0.523893</td>\n",
       "      <td>0.619179</td>\n",
       "      <td>1.238782</td>\n",
       "      <td>0.075120</td>\n",
       "    </tr>\n",
       "    <tr>\n",
       "      <th>min</th>\n",
       "      <td>4.0</td>\n",
       "      <td>0.694736</td>\n",
       "      <td>-3.347827</td>\n",
       "      <td>-1.849993</td>\n",
       "      <td>0.000834</td>\n",
       "      <td>-2.007213</td>\n",
       "      <td>-0.059932</td>\n",
       "    </tr>\n",
       "    <tr>\n",
       "      <th>25%</th>\n",
       "      <td>4.0</td>\n",
       "      <td>0.704971</td>\n",
       "      <td>-2.447213</td>\n",
       "      <td>-1.586644</td>\n",
       "      <td>0.312417</td>\n",
       "      <td>-1.019600</td>\n",
       "      <td>-0.043204</td>\n",
       "    </tr>\n",
       "    <tr>\n",
       "      <th>50%</th>\n",
       "      <td>4.0</td>\n",
       "      <td>0.715206</td>\n",
       "      <td>-1.546598</td>\n",
       "      <td>-1.323296</td>\n",
       "      <td>0.624000</td>\n",
       "      <td>-0.031987</td>\n",
       "      <td>-0.026476</td>\n",
       "    </tr>\n",
       "    <tr>\n",
       "      <th>75%</th>\n",
       "      <td>4.0</td>\n",
       "      <td>2.062655</td>\n",
       "      <td>-0.885505</td>\n",
       "      <td>-1.062754</td>\n",
       "      <td>0.931592</td>\n",
       "      <td>0.121818</td>\n",
       "      <td>0.028582</td>\n",
       "    </tr>\n",
       "    <tr>\n",
       "      <th>max</th>\n",
       "      <td>4.0</td>\n",
       "      <td>3.410104</td>\n",
       "      <td>-0.224411</td>\n",
       "      <td>-0.802212</td>\n",
       "      <td>1.239184</td>\n",
       "      <td>0.275624</td>\n",
       "      <td>0.083640</td>\n",
       "    </tr>\n",
       "  </tbody>\n",
       "</table>\n",
       "</div>"
      ],
      "text/plain": [
       "       Category  DER (St.)  Operating Profit Margin (St.)  sales growth (St.)  \\\n",
       "count       3.0   3.000000                       3.000000            3.000000   \n",
       "mean        4.0   1.606682                      -1.706279           -1.325167   \n",
       "std         0.0   1.561843                       1.567819            0.523893   \n",
       "min         4.0   0.694736                      -3.347827           -1.849993   \n",
       "25%         4.0   0.704971                      -2.447213           -1.586644   \n",
       "50%         4.0   0.715206                      -1.546598           -1.323296   \n",
       "75%         4.0   2.062655                      -0.885505           -1.062754   \n",
       "max         4.0   3.410104                      -0.224411           -0.802212   \n",
       "\n",
       "            DER  Operating Profit Margin  return of asset  \n",
       "count  3.000000                 3.000000         3.000000  \n",
       "mean   0.621339                -0.587859        -0.000922  \n",
       "std    0.619179                 1.238782         0.075120  \n",
       "min    0.000834                -2.007213        -0.059932  \n",
       "25%    0.312417                -1.019600        -0.043204  \n",
       "50%    0.624000                -0.031987        -0.026476  \n",
       "75%    0.931592                 0.121818         0.028582  \n",
       "max    1.239184                 0.275624         0.083640  "
      ]
     },
     "execution_count": 32,
     "metadata": {},
     "output_type": "execute_result"
    }
   ],
   "source": [
    "#Highly Positively Impacted\n",
    "df[df['Category'] == 4].describe() "
   ]
  },
  {
   "cell_type": "code",
   "execution_count": 33,
   "id": "46f811ff",
   "metadata": {
    "execution": {
     "iopub.execute_input": "2022-04-20T14:20:04.953224Z",
     "iopub.status.busy": "2022-04-20T14:20:04.952875Z",
     "iopub.status.idle": "2022-04-20T14:20:04.990536Z",
     "shell.execute_reply": "2022-04-20T14:20:04.989469Z"
    },
    "papermill": {
     "duration": 0.10492,
     "end_time": "2022-04-20T14:20:04.992906",
     "exception": false,
     "start_time": "2022-04-20T14:20:04.887986",
     "status": "completed"
    },
    "tags": []
   },
   "outputs": [
    {
     "data": {
      "text/html": [
       "<div>\n",
       "<style scoped>\n",
       "    .dataframe tbody tr th:only-of-type {\n",
       "        vertical-align: middle;\n",
       "    }\n",
       "\n",
       "    .dataframe tbody tr th {\n",
       "        vertical-align: top;\n",
       "    }\n",
       "\n",
       "    .dataframe thead th {\n",
       "        text-align: right;\n",
       "    }\n",
       "</style>\n",
       "<table border=\"1\" class=\"dataframe\">\n",
       "  <thead>\n",
       "    <tr style=\"text-align: right;\">\n",
       "      <th></th>\n",
       "      <th>Category</th>\n",
       "      <th>DER (St.)</th>\n",
       "      <th>Operating Profit Margin (St.)</th>\n",
       "      <th>sales growth (St.)</th>\n",
       "      <th>DER</th>\n",
       "      <th>Operating Profit Margin</th>\n",
       "      <th>return of asset</th>\n",
       "    </tr>\n",
       "  </thead>\n",
       "  <tbody>\n",
       "    <tr>\n",
       "      <th>count</th>\n",
       "      <td>0.0</td>\n",
       "      <td>0.0</td>\n",
       "      <td>0.0</td>\n",
       "      <td>0.0</td>\n",
       "      <td>0.0</td>\n",
       "      <td>0.0</td>\n",
       "      <td>0.0</td>\n",
       "    </tr>\n",
       "    <tr>\n",
       "      <th>mean</th>\n",
       "      <td>NaN</td>\n",
       "      <td>NaN</td>\n",
       "      <td>NaN</td>\n",
       "      <td>NaN</td>\n",
       "      <td>NaN</td>\n",
       "      <td>NaN</td>\n",
       "      <td>NaN</td>\n",
       "    </tr>\n",
       "    <tr>\n",
       "      <th>std</th>\n",
       "      <td>NaN</td>\n",
       "      <td>NaN</td>\n",
       "      <td>NaN</td>\n",
       "      <td>NaN</td>\n",
       "      <td>NaN</td>\n",
       "      <td>NaN</td>\n",
       "      <td>NaN</td>\n",
       "    </tr>\n",
       "    <tr>\n",
       "      <th>min</th>\n",
       "      <td>NaN</td>\n",
       "      <td>NaN</td>\n",
       "      <td>NaN</td>\n",
       "      <td>NaN</td>\n",
       "      <td>NaN</td>\n",
       "      <td>NaN</td>\n",
       "      <td>NaN</td>\n",
       "    </tr>\n",
       "    <tr>\n",
       "      <th>25%</th>\n",
       "      <td>NaN</td>\n",
       "      <td>NaN</td>\n",
       "      <td>NaN</td>\n",
       "      <td>NaN</td>\n",
       "      <td>NaN</td>\n",
       "      <td>NaN</td>\n",
       "      <td>NaN</td>\n",
       "    </tr>\n",
       "    <tr>\n",
       "      <th>50%</th>\n",
       "      <td>NaN</td>\n",
       "      <td>NaN</td>\n",
       "      <td>NaN</td>\n",
       "      <td>NaN</td>\n",
       "      <td>NaN</td>\n",
       "      <td>NaN</td>\n",
       "      <td>NaN</td>\n",
       "    </tr>\n",
       "    <tr>\n",
       "      <th>75%</th>\n",
       "      <td>NaN</td>\n",
       "      <td>NaN</td>\n",
       "      <td>NaN</td>\n",
       "      <td>NaN</td>\n",
       "      <td>NaN</td>\n",
       "      <td>NaN</td>\n",
       "      <td>NaN</td>\n",
       "    </tr>\n",
       "    <tr>\n",
       "      <th>max</th>\n",
       "      <td>NaN</td>\n",
       "      <td>NaN</td>\n",
       "      <td>NaN</td>\n",
       "      <td>NaN</td>\n",
       "      <td>NaN</td>\n",
       "      <td>NaN</td>\n",
       "      <td>NaN</td>\n",
       "    </tr>\n",
       "  </tbody>\n",
       "</table>\n",
       "</div>"
      ],
      "text/plain": [
       "       Category  DER (St.)  Operating Profit Margin (St.)  sales growth (St.)  \\\n",
       "count       0.0        0.0                            0.0                 0.0   \n",
       "mean        NaN        NaN                            NaN                 NaN   \n",
       "std         NaN        NaN                            NaN                 NaN   \n",
       "min         NaN        NaN                            NaN                 NaN   \n",
       "25%         NaN        NaN                            NaN                 NaN   \n",
       "50%         NaN        NaN                            NaN                 NaN   \n",
       "75%         NaN        NaN                            NaN                 NaN   \n",
       "max         NaN        NaN                            NaN                 NaN   \n",
       "\n",
       "       DER  Operating Profit Margin  return of asset  \n",
       "count  0.0                      0.0              0.0  \n",
       "mean   NaN                      NaN              NaN  \n",
       "std    NaN                      NaN              NaN  \n",
       "min    NaN                      NaN              NaN  \n",
       "25%    NaN                      NaN              NaN  \n",
       "50%    NaN                      NaN              NaN  \n",
       "75%    NaN                      NaN              NaN  \n",
       "max    NaN                      NaN              NaN  "
      ]
     },
     "execution_count": 33,
     "metadata": {},
     "output_type": "execute_result"
    }
   ],
   "source": [
    "#Highly Positively Impacted\n",
    "df[df['Category'] == 3].describe() "
   ]
  },
  {
   "cell_type": "code",
   "execution_count": 34,
   "id": "d36565e5",
   "metadata": {
    "execution": {
     "iopub.execute_input": "2022-04-20T14:20:05.122124Z",
     "iopub.status.busy": "2022-04-20T14:20:05.121829Z",
     "iopub.status.idle": "2022-04-20T14:20:05.156655Z",
     "shell.execute_reply": "2022-04-20T14:20:05.155702Z"
    },
    "papermill": {
     "duration": 0.101733,
     "end_time": "2022-04-20T14:20:05.159064",
     "exception": false,
     "start_time": "2022-04-20T14:20:05.057331",
     "status": "completed"
    },
    "tags": []
   },
   "outputs": [
    {
     "data": {
      "text/html": [
       "<div>\n",
       "<style scoped>\n",
       "    .dataframe tbody tr th:only-of-type {\n",
       "        vertical-align: middle;\n",
       "    }\n",
       "\n",
       "    .dataframe tbody tr th {\n",
       "        vertical-align: top;\n",
       "    }\n",
       "\n",
       "    .dataframe thead th {\n",
       "        text-align: right;\n",
       "    }\n",
       "</style>\n",
       "<table border=\"1\" class=\"dataframe\">\n",
       "  <thead>\n",
       "    <tr style=\"text-align: right;\">\n",
       "      <th></th>\n",
       "      <th>Category</th>\n",
       "      <th>DER (St.)</th>\n",
       "      <th>Operating Profit Margin (St.)</th>\n",
       "      <th>sales growth (St.)</th>\n",
       "      <th>DER</th>\n",
       "      <th>Operating Profit Margin</th>\n",
       "      <th>return of asset</th>\n",
       "    </tr>\n",
       "  </thead>\n",
       "  <tbody>\n",
       "    <tr>\n",
       "      <th>count</th>\n",
       "      <td>14.0</td>\n",
       "      <td>14.000000</td>\n",
       "      <td>14.000000</td>\n",
       "      <td>14.000000</td>\n",
       "      <td>14.000000</td>\n",
       "      <td>14.000000</td>\n",
       "      <td>14.000000</td>\n",
       "    </tr>\n",
       "    <tr>\n",
       "      <th>mean</th>\n",
       "      <td>2.0</td>\n",
       "      <td>-0.436716</td>\n",
       "      <td>0.307904</td>\n",
       "      <td>0.061258</td>\n",
       "      <td>1.986223</td>\n",
       "      <td>0.095917</td>\n",
       "      <td>0.054839</td>\n",
       "    </tr>\n",
       "    <tr>\n",
       "      <th>std</th>\n",
       "      <td>0.0</td>\n",
       "      <td>0.281829</td>\n",
       "      <td>0.426912</td>\n",
       "      <td>0.430486</td>\n",
       "      <td>2.846352</td>\n",
       "      <td>0.337944</td>\n",
       "      <td>0.128072</td>\n",
       "    </tr>\n",
       "    <tr>\n",
       "      <th>min</th>\n",
       "      <td>2.0</td>\n",
       "      <td>-1.157119</td>\n",
       "      <td>-0.445530</td>\n",
       "      <td>-0.885094</td>\n",
       "      <td>0.000624</td>\n",
       "      <td>-0.980925</td>\n",
       "      <td>-0.178472</td>\n",
       "    </tr>\n",
       "    <tr>\n",
       "      <th>25%</th>\n",
       "      <td>2.0</td>\n",
       "      <td>-0.574439</td>\n",
       "      <td>0.189473</td>\n",
       "      <td>-0.068037</td>\n",
       "      <td>0.543356</td>\n",
       "      <td>0.051778</td>\n",
       "      <td>0.031135</td>\n",
       "    </tr>\n",
       "    <tr>\n",
       "      <th>50%</th>\n",
       "      <td>2.0</td>\n",
       "      <td>-0.398247</td>\n",
       "      <td>0.375532</td>\n",
       "      <td>0.136258</td>\n",
       "      <td>0.892821</td>\n",
       "      <td>0.172038</td>\n",
       "      <td>0.055165</td>\n",
       "    </tr>\n",
       "    <tr>\n",
       "      <th>75%</th>\n",
       "      <td>2.0</td>\n",
       "      <td>-0.283775</td>\n",
       "      <td>0.499627</td>\n",
       "      <td>0.329553</td>\n",
       "      <td>1.593823</td>\n",
       "      <td>0.233867</td>\n",
       "      <td>0.077902</td>\n",
       "    </tr>\n",
       "    <tr>\n",
       "      <th>max</th>\n",
       "      <td>2.0</td>\n",
       "      <td>-0.021584</td>\n",
       "      <td>1.210151</td>\n",
       "      <td>0.682278</td>\n",
       "      <td>10.614012</td>\n",
       "      <td>0.458206</td>\n",
       "      <td>0.405886</td>\n",
       "    </tr>\n",
       "  </tbody>\n",
       "</table>\n",
       "</div>"
      ],
      "text/plain": [
       "       Category  DER (St.)  Operating Profit Margin (St.)  sales growth (St.)  \\\n",
       "count      14.0  14.000000                      14.000000           14.000000   \n",
       "mean        2.0  -0.436716                       0.307904            0.061258   \n",
       "std         0.0   0.281829                       0.426912            0.430486   \n",
       "min         2.0  -1.157119                      -0.445530           -0.885094   \n",
       "25%         2.0  -0.574439                       0.189473           -0.068037   \n",
       "50%         2.0  -0.398247                       0.375532            0.136258   \n",
       "75%         2.0  -0.283775                       0.499627            0.329553   \n",
       "max         2.0  -0.021584                       1.210151            0.682278   \n",
       "\n",
       "             DER  Operating Profit Margin  return of asset  \n",
       "count  14.000000                14.000000        14.000000  \n",
       "mean    1.986223                 0.095917         0.054839  \n",
       "std     2.846352                 0.337944         0.128072  \n",
       "min     0.000624                -0.980925        -0.178472  \n",
       "25%     0.543356                 0.051778         0.031135  \n",
       "50%     0.892821                 0.172038         0.055165  \n",
       "75%     1.593823                 0.233867         0.077902  \n",
       "max    10.614012                 0.458206         0.405886  "
      ]
     },
     "execution_count": 34,
     "metadata": {},
     "output_type": "execute_result"
    }
   ],
   "source": [
    "#Highly Positively Impacted\n",
    "df[df['Category'] == 2].describe() "
   ]
  },
  {
   "cell_type": "code",
   "execution_count": 35,
   "id": "9dbc8563",
   "metadata": {
    "execution": {
     "iopub.execute_input": "2022-04-20T14:20:05.288930Z",
     "iopub.status.busy": "2022-04-20T14:20:05.288597Z",
     "iopub.status.idle": "2022-04-20T14:20:05.322259Z",
     "shell.execute_reply": "2022-04-20T14:20:05.321412Z"
    },
    "papermill": {
     "duration": 0.101825,
     "end_time": "2022-04-20T14:20:05.324736",
     "exception": false,
     "start_time": "2022-04-20T14:20:05.222911",
     "status": "completed"
    },
    "tags": []
   },
   "outputs": [
    {
     "data": {
      "text/html": [
       "<div>\n",
       "<style scoped>\n",
       "    .dataframe tbody tr th:only-of-type {\n",
       "        vertical-align: middle;\n",
       "    }\n",
       "\n",
       "    .dataframe tbody tr th {\n",
       "        vertical-align: top;\n",
       "    }\n",
       "\n",
       "    .dataframe thead th {\n",
       "        text-align: right;\n",
       "    }\n",
       "</style>\n",
       "<table border=\"1\" class=\"dataframe\">\n",
       "  <thead>\n",
       "    <tr style=\"text-align: right;\">\n",
       "      <th></th>\n",
       "      <th>Category</th>\n",
       "      <th>DER (St.)</th>\n",
       "      <th>Operating Profit Margin (St.)</th>\n",
       "      <th>sales growth (St.)</th>\n",
       "      <th>DER</th>\n",
       "      <th>Operating Profit Margin</th>\n",
       "      <th>return of asset</th>\n",
       "    </tr>\n",
       "  </thead>\n",
       "  <tbody>\n",
       "    <tr>\n",
       "      <th>count</th>\n",
       "      <td>1.0</td>\n",
       "      <td>1.000000</td>\n",
       "      <td>1.000000</td>\n",
       "      <td>1.000000</td>\n",
       "      <td>1.000000</td>\n",
       "      <td>1.000000</td>\n",
       "      <td>1.000000</td>\n",
       "    </tr>\n",
       "    <tr>\n",
       "      <th>mean</th>\n",
       "      <td>1.0</td>\n",
       "      <td>1.293972</td>\n",
       "      <td>0.808185</td>\n",
       "      <td>3.117884</td>\n",
       "      <td>3.517208</td>\n",
       "      <td>-0.412206</td>\n",
       "      <td>-0.116518</td>\n",
       "    </tr>\n",
       "    <tr>\n",
       "      <th>std</th>\n",
       "      <td>NaN</td>\n",
       "      <td>NaN</td>\n",
       "      <td>NaN</td>\n",
       "      <td>NaN</td>\n",
       "      <td>NaN</td>\n",
       "      <td>NaN</td>\n",
       "      <td>NaN</td>\n",
       "    </tr>\n",
       "    <tr>\n",
       "      <th>min</th>\n",
       "      <td>1.0</td>\n",
       "      <td>1.293972</td>\n",
       "      <td>0.808185</td>\n",
       "      <td>3.117884</td>\n",
       "      <td>3.517208</td>\n",
       "      <td>-0.412206</td>\n",
       "      <td>-0.116518</td>\n",
       "    </tr>\n",
       "    <tr>\n",
       "      <th>25%</th>\n",
       "      <td>1.0</td>\n",
       "      <td>1.293972</td>\n",
       "      <td>0.808185</td>\n",
       "      <td>3.117884</td>\n",
       "      <td>3.517208</td>\n",
       "      <td>-0.412206</td>\n",
       "      <td>-0.116518</td>\n",
       "    </tr>\n",
       "    <tr>\n",
       "      <th>50%</th>\n",
       "      <td>1.0</td>\n",
       "      <td>1.293972</td>\n",
       "      <td>0.808185</td>\n",
       "      <td>3.117884</td>\n",
       "      <td>3.517208</td>\n",
       "      <td>-0.412206</td>\n",
       "      <td>-0.116518</td>\n",
       "    </tr>\n",
       "    <tr>\n",
       "      <th>75%</th>\n",
       "      <td>1.0</td>\n",
       "      <td>1.293972</td>\n",
       "      <td>0.808185</td>\n",
       "      <td>3.117884</td>\n",
       "      <td>3.517208</td>\n",
       "      <td>-0.412206</td>\n",
       "      <td>-0.116518</td>\n",
       "    </tr>\n",
       "    <tr>\n",
       "      <th>max</th>\n",
       "      <td>1.0</td>\n",
       "      <td>1.293972</td>\n",
       "      <td>0.808185</td>\n",
       "      <td>3.117884</td>\n",
       "      <td>3.517208</td>\n",
       "      <td>-0.412206</td>\n",
       "      <td>-0.116518</td>\n",
       "    </tr>\n",
       "  </tbody>\n",
       "</table>\n",
       "</div>"
      ],
      "text/plain": [
       "       Category  DER (St.)  Operating Profit Margin (St.)  sales growth (St.)  \\\n",
       "count       1.0   1.000000                       1.000000            1.000000   \n",
       "mean        1.0   1.293972                       0.808185            3.117884   \n",
       "std         NaN        NaN                            NaN                 NaN   \n",
       "min         1.0   1.293972                       0.808185            3.117884   \n",
       "25%         1.0   1.293972                       0.808185            3.117884   \n",
       "50%         1.0   1.293972                       0.808185            3.117884   \n",
       "75%         1.0   1.293972                       0.808185            3.117884   \n",
       "max         1.0   1.293972                       0.808185            3.117884   \n",
       "\n",
       "            DER  Operating Profit Margin  return of asset  \n",
       "count  1.000000                 1.000000         1.000000  \n",
       "mean   3.517208                -0.412206        -0.116518  \n",
       "std         NaN                      NaN              NaN  \n",
       "min    3.517208                -0.412206        -0.116518  \n",
       "25%    3.517208                -0.412206        -0.116518  \n",
       "50%    3.517208                -0.412206        -0.116518  \n",
       "75%    3.517208                -0.412206        -0.116518  \n",
       "max    3.517208                -0.412206        -0.116518  "
      ]
     },
     "execution_count": 35,
     "metadata": {},
     "output_type": "execute_result"
    }
   ],
   "source": [
    "#Highly Positively Impacted\n",
    "df[df['Category'] == 1].describe() "
   ]
  },
  {
   "cell_type": "code",
   "execution_count": 36,
   "id": "a65783b7",
   "metadata": {
    "execution": {
     "iopub.execute_input": "2022-04-20T14:20:05.458225Z",
     "iopub.status.busy": "2022-04-20T14:20:05.457920Z",
     "iopub.status.idle": "2022-04-20T14:20:05.492939Z",
     "shell.execute_reply": "2022-04-20T14:20:05.492313Z"
    },
    "papermill": {
     "duration": 0.104276,
     "end_time": "2022-04-20T14:20:05.494823",
     "exception": false,
     "start_time": "2022-04-20T14:20:05.390547",
     "status": "completed"
    },
    "tags": []
   },
   "outputs": [
    {
     "data": {
      "text/html": [
       "<div>\n",
       "<style scoped>\n",
       "    .dataframe tbody tr th:only-of-type {\n",
       "        vertical-align: middle;\n",
       "    }\n",
       "\n",
       "    .dataframe tbody tr th {\n",
       "        vertical-align: top;\n",
       "    }\n",
       "\n",
       "    .dataframe thead th {\n",
       "        text-align: right;\n",
       "    }\n",
       "</style>\n",
       "<table border=\"1\" class=\"dataframe\">\n",
       "  <thead>\n",
       "    <tr style=\"text-align: right;\">\n",
       "      <th></th>\n",
       "      <th>Category</th>\n",
       "      <th>DER (St.)</th>\n",
       "      <th>Operating Profit Margin (St.)</th>\n",
       "      <th>sales growth (St.)</th>\n",
       "      <th>DER</th>\n",
       "      <th>Operating Profit Margin</th>\n",
       "      <th>return of asset</th>\n",
       "    </tr>\n",
       "  </thead>\n",
       "  <tbody>\n",
       "    <tr>\n",
       "      <th>count</th>\n",
       "      <td>0.0</td>\n",
       "      <td>0.0</td>\n",
       "      <td>0.0</td>\n",
       "      <td>0.0</td>\n",
       "      <td>0.0</td>\n",
       "      <td>0.0</td>\n",
       "      <td>0.0</td>\n",
       "    </tr>\n",
       "    <tr>\n",
       "      <th>mean</th>\n",
       "      <td>NaN</td>\n",
       "      <td>NaN</td>\n",
       "      <td>NaN</td>\n",
       "      <td>NaN</td>\n",
       "      <td>NaN</td>\n",
       "      <td>NaN</td>\n",
       "      <td>NaN</td>\n",
       "    </tr>\n",
       "    <tr>\n",
       "      <th>std</th>\n",
       "      <td>NaN</td>\n",
       "      <td>NaN</td>\n",
       "      <td>NaN</td>\n",
       "      <td>NaN</td>\n",
       "      <td>NaN</td>\n",
       "      <td>NaN</td>\n",
       "      <td>NaN</td>\n",
       "    </tr>\n",
       "    <tr>\n",
       "      <th>min</th>\n",
       "      <td>NaN</td>\n",
       "      <td>NaN</td>\n",
       "      <td>NaN</td>\n",
       "      <td>NaN</td>\n",
       "      <td>NaN</td>\n",
       "      <td>NaN</td>\n",
       "      <td>NaN</td>\n",
       "    </tr>\n",
       "    <tr>\n",
       "      <th>25%</th>\n",
       "      <td>NaN</td>\n",
       "      <td>NaN</td>\n",
       "      <td>NaN</td>\n",
       "      <td>NaN</td>\n",
       "      <td>NaN</td>\n",
       "      <td>NaN</td>\n",
       "      <td>NaN</td>\n",
       "    </tr>\n",
       "    <tr>\n",
       "      <th>50%</th>\n",
       "      <td>NaN</td>\n",
       "      <td>NaN</td>\n",
       "      <td>NaN</td>\n",
       "      <td>NaN</td>\n",
       "      <td>NaN</td>\n",
       "      <td>NaN</td>\n",
       "      <td>NaN</td>\n",
       "    </tr>\n",
       "    <tr>\n",
       "      <th>75%</th>\n",
       "      <td>NaN</td>\n",
       "      <td>NaN</td>\n",
       "      <td>NaN</td>\n",
       "      <td>NaN</td>\n",
       "      <td>NaN</td>\n",
       "      <td>NaN</td>\n",
       "      <td>NaN</td>\n",
       "    </tr>\n",
       "    <tr>\n",
       "      <th>max</th>\n",
       "      <td>NaN</td>\n",
       "      <td>NaN</td>\n",
       "      <td>NaN</td>\n",
       "      <td>NaN</td>\n",
       "      <td>NaN</td>\n",
       "      <td>NaN</td>\n",
       "      <td>NaN</td>\n",
       "    </tr>\n",
       "  </tbody>\n",
       "</table>\n",
       "</div>"
      ],
      "text/plain": [
       "       Category  DER (St.)  Operating Profit Margin (St.)  sales growth (St.)  \\\n",
       "count       0.0        0.0                            0.0                 0.0   \n",
       "mean        NaN        NaN                            NaN                 NaN   \n",
       "std         NaN        NaN                            NaN                 NaN   \n",
       "min         NaN        NaN                            NaN                 NaN   \n",
       "25%         NaN        NaN                            NaN                 NaN   \n",
       "50%         NaN        NaN                            NaN                 NaN   \n",
       "75%         NaN        NaN                            NaN                 NaN   \n",
       "max         NaN        NaN                            NaN                 NaN   \n",
       "\n",
       "       DER  Operating Profit Margin  return of asset  \n",
       "count  0.0                      0.0              0.0  \n",
       "mean   NaN                      NaN              NaN  \n",
       "std    NaN                      NaN              NaN  \n",
       "min    NaN                      NaN              NaN  \n",
       "25%    NaN                      NaN              NaN  \n",
       "50%    NaN                      NaN              NaN  \n",
       "75%    NaN                      NaN              NaN  \n",
       "max    NaN                      NaN              NaN  "
      ]
     },
     "execution_count": 36,
     "metadata": {},
     "output_type": "execute_result"
    }
   ],
   "source": [
    "#Highly Positively Impacted\n",
    "df[df['Category'] == 0].describe() "
   ]
  }
 ],
 "metadata": {
  "kernelspec": {
   "display_name": "Python 3",
   "language": "python",
   "name": "python3"
  },
  "language_info": {
   "codemirror_mode": {
    "name": "ipython",
    "version": 3
   },
   "file_extension": ".py",
   "mimetype": "text/x-python",
   "name": "python",
   "nbconvert_exporter": "python",
   "pygments_lexer": "ipython3",
   "version": "3.7.12"
  },
  "papermill": {
   "default_parameters": {},
   "duration": 24.103747,
   "end_time": "2022-04-20T14:20:06.785780",
   "environment_variables": {},
   "exception": null,
   "input_path": "__notebook__.ipynb",
   "output_path": "__notebook__.ipynb",
   "parameters": {},
   "start_time": "2022-04-20T14:19:42.682033",
   "version": "2.3.4"
  }
 },
 "nbformat": 4,
 "nbformat_minor": 5
}
